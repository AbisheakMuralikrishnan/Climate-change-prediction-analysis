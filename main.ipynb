{
 "cells": [
  {
   "cell_type": "code",
   "execution_count": 102,
   "metadata": {},
   "outputs": [
    {
     "data": {
      "text/html": [
       "        <script type=\"text/javascript\">\n",
       "        window.PlotlyConfig = {MathJaxConfig: 'local'};\n",
       "        if (window.MathJax && window.MathJax.Hub && window.MathJax.Hub.Config) {window.MathJax.Hub.Config({SVG: {font: \"STIX-Web\"}});}\n",
       "        if (typeof require !== 'undefined') {\n",
       "        require.undef(\"plotly\");\n",
       "        requirejs.config({\n",
       "            paths: {\n",
       "                'plotly': ['https://cdn.plot.ly/plotly-2.16.1.min']\n",
       "            }\n",
       "        });\n",
       "        require(['plotly'], function(Plotly) {\n",
       "            window._Plotly = Plotly;\n",
       "        });\n",
       "        }\n",
       "        </script>\n",
       "        "
      ]
     },
     "metadata": {},
     "output_type": "display_data"
    }
   ],
   "source": [
    "import numpy as np\n",
    "import pandas as pd\n",
    "import matplotlib.pyplot as plt\n",
    "import seaborn as sns\n",
    "import plotly.offline as py\n",
    "py.init_notebook_mode(connected=True)\n",
    "import plotly.graph_objs as go\n",
    "import plotly.tools as tls"
   ]
  },
  {
   "cell_type": "code",
   "execution_count": 103,
   "metadata": {},
   "outputs": [],
   "source": [
    "global_temp=pd.read_csv(\"D:\\Data Science files\\GlobalLandTemperaturesByCountry.csv\")"
   ]
  },
  {
   "cell_type": "code",
   "execution_count": 104,
   "metadata": {},
   "outputs": [
    {
     "data": {
      "text/html": [
       "<div>\n",
       "<style scoped>\n",
       "    .dataframe tbody tr th:only-of-type {\n",
       "        vertical-align: middle;\n",
       "    }\n",
       "\n",
       "    .dataframe tbody tr th {\n",
       "        vertical-align: top;\n",
       "    }\n",
       "\n",
       "    .dataframe thead th {\n",
       "        text-align: right;\n",
       "    }\n",
       "</style>\n",
       "<table border=\"1\" class=\"dataframe\">\n",
       "  <thead>\n",
       "    <tr style=\"text-align: right;\">\n",
       "      <th></th>\n",
       "      <th>dt</th>\n",
       "      <th>AverageTemperature</th>\n",
       "      <th>AverageTemperatureUncertainty</th>\n",
       "      <th>Country</th>\n",
       "    </tr>\n",
       "  </thead>\n",
       "  <tbody>\n",
       "    <tr>\n",
       "      <th>0</th>\n",
       "      <td>1743-11-01</td>\n",
       "      <td>4.384</td>\n",
       "      <td>2.294</td>\n",
       "      <td>Åland</td>\n",
       "    </tr>\n",
       "    <tr>\n",
       "      <th>1</th>\n",
       "      <td>1743-12-01</td>\n",
       "      <td>NaN</td>\n",
       "      <td>NaN</td>\n",
       "      <td>Åland</td>\n",
       "    </tr>\n",
       "    <tr>\n",
       "      <th>2</th>\n",
       "      <td>1744-01-01</td>\n",
       "      <td>NaN</td>\n",
       "      <td>NaN</td>\n",
       "      <td>Åland</td>\n",
       "    </tr>\n",
       "    <tr>\n",
       "      <th>3</th>\n",
       "      <td>1744-02-01</td>\n",
       "      <td>NaN</td>\n",
       "      <td>NaN</td>\n",
       "      <td>Åland</td>\n",
       "    </tr>\n",
       "    <tr>\n",
       "      <th>4</th>\n",
       "      <td>1744-03-01</td>\n",
       "      <td>NaN</td>\n",
       "      <td>NaN</td>\n",
       "      <td>Åland</td>\n",
       "    </tr>\n",
       "    <tr>\n",
       "      <th>...</th>\n",
       "      <td>...</td>\n",
       "      <td>...</td>\n",
       "      <td>...</td>\n",
       "      <td>...</td>\n",
       "    </tr>\n",
       "    <tr>\n",
       "      <th>577457</th>\n",
       "      <td>2013-05-01</td>\n",
       "      <td>19.059</td>\n",
       "      <td>1.022</td>\n",
       "      <td>Zimbabwe</td>\n",
       "    </tr>\n",
       "    <tr>\n",
       "      <th>577458</th>\n",
       "      <td>2013-06-01</td>\n",
       "      <td>17.613</td>\n",
       "      <td>0.473</td>\n",
       "      <td>Zimbabwe</td>\n",
       "    </tr>\n",
       "    <tr>\n",
       "      <th>577459</th>\n",
       "      <td>2013-07-01</td>\n",
       "      <td>17.000</td>\n",
       "      <td>0.453</td>\n",
       "      <td>Zimbabwe</td>\n",
       "    </tr>\n",
       "    <tr>\n",
       "      <th>577460</th>\n",
       "      <td>2013-08-01</td>\n",
       "      <td>19.759</td>\n",
       "      <td>0.717</td>\n",
       "      <td>Zimbabwe</td>\n",
       "    </tr>\n",
       "    <tr>\n",
       "      <th>577461</th>\n",
       "      <td>2013-09-01</td>\n",
       "      <td>NaN</td>\n",
       "      <td>NaN</td>\n",
       "      <td>Zimbabwe</td>\n",
       "    </tr>\n",
       "  </tbody>\n",
       "</table>\n",
       "<p>577462 rows × 4 columns</p>\n",
       "</div>"
      ],
      "text/plain": [
       "                dt  AverageTemperature  AverageTemperatureUncertainty  \\\n",
       "0       1743-11-01               4.384                          2.294   \n",
       "1       1743-12-01                 NaN                            NaN   \n",
       "2       1744-01-01                 NaN                            NaN   \n",
       "3       1744-02-01                 NaN                            NaN   \n",
       "4       1744-03-01                 NaN                            NaN   \n",
       "...            ...                 ...                            ...   \n",
       "577457  2013-05-01              19.059                          1.022   \n",
       "577458  2013-06-01              17.613                          0.473   \n",
       "577459  2013-07-01              17.000                          0.453   \n",
       "577460  2013-08-01              19.759                          0.717   \n",
       "577461  2013-09-01                 NaN                            NaN   \n",
       "\n",
       "         Country  \n",
       "0          Åland  \n",
       "1          Åland  \n",
       "2          Åland  \n",
       "3          Åland  \n",
       "4          Åland  \n",
       "...          ...  \n",
       "577457  Zimbabwe  \n",
       "577458  Zimbabwe  \n",
       "577459  Zimbabwe  \n",
       "577460  Zimbabwe  \n",
       "577461  Zimbabwe  \n",
       "\n",
       "[577462 rows x 4 columns]"
      ]
     },
     "execution_count": 104,
     "metadata": {},
     "output_type": "execute_result"
    }
   ],
   "source": [
    "global_temp "
   ]
  },
  {
   "cell_type": "code",
   "execution_count": 105,
   "metadata": {},
   "outputs": [
    {
     "data": {
      "text/plain": [
       "array(['Åland', 'Afghanistan', 'Africa', 'Albania', 'Algeria',\n",
       "       'American Samoa', 'Andorra', 'Angola', 'Anguilla', 'Antarctica',\n",
       "       'Antigua And Barbuda', 'Argentina', 'Armenia', 'Aruba', 'Asia',\n",
       "       'Australia', 'Austria', 'Azerbaijan', 'Bahamas', 'Bahrain',\n",
       "       'Baker Island', 'Bangladesh', 'Barbados', 'Belarus', 'Belgium',\n",
       "       'Belize', 'Benin', 'Bhutan', 'Bolivia',\n",
       "       'Bonaire, Saint Eustatius And Saba', 'Bosnia And Herzegovina',\n",
       "       'Botswana', 'Brazil', 'British Virgin Islands', 'Bulgaria',\n",
       "       'Burkina Faso', 'Burma', 'Burundi', \"Côte D'Ivoire\", 'Cambodia',\n",
       "       'Cameroon', 'Canada', 'Cape Verde', 'Cayman Islands',\n",
       "       'Central African Republic', 'Chad', 'Chile', 'China',\n",
       "       'Christmas Island', 'Colombia', 'Comoros',\n",
       "       'Congo (Democratic Republic Of The)', 'Congo', 'Costa Rica',\n",
       "       'Croatia', 'Cuba', 'Curaçao', 'Cyprus', 'Czech Republic',\n",
       "       'Denmark (Europe)', 'Denmark', 'Djibouti', 'Dominica',\n",
       "       'Dominican Republic', 'Ecuador', 'Egypt', 'El Salvador',\n",
       "       'Equatorial Guinea', 'Eritrea', 'Estonia', 'Ethiopia', 'Europe',\n",
       "       'Falkland Islands (Islas Malvinas)', 'Faroe Islands',\n",
       "       'Federated States Of Micronesia', 'Fiji', 'Finland',\n",
       "       'France (Europe)', 'France', 'French Guiana', 'French Polynesia',\n",
       "       'French Southern And Antarctic Lands', 'Gabon', 'Gambia',\n",
       "       'Gaza Strip', 'Georgia', 'Germany', 'Ghana', 'Greece', 'Greenland',\n",
       "       'Grenada', 'Guadeloupe', 'Guam', 'Guatemala', 'Guernsey',\n",
       "       'Guinea Bissau', 'Guinea', 'Guyana', 'Haiti',\n",
       "       'Heard Island And Mcdonald Islands', 'Honduras', 'Hong Kong',\n",
       "       'Hungary', 'Iceland', 'India', 'Indonesia', 'Iran', 'Iraq',\n",
       "       'Ireland', 'Isle Of Man', 'Israel', 'Italy', 'Jamaica', 'Japan',\n",
       "       'Jersey', 'Jordan', 'Kazakhstan', 'Kenya', 'Kingman Reef',\n",
       "       'Kiribati', 'Kuwait', 'Kyrgyzstan', 'Laos', 'Latvia', 'Lebanon',\n",
       "       'Lesotho', 'Liberia', 'Libya', 'Liechtenstein', 'Lithuania',\n",
       "       'Luxembourg', 'Macau', 'Macedonia', 'Madagascar', 'Malawi',\n",
       "       'Malaysia', 'Mali', 'Malta', 'Martinique', 'Mauritania',\n",
       "       'Mauritius', 'Mayotte', 'Mexico', 'Moldova', 'Monaco', 'Mongolia',\n",
       "       'Montenegro', 'Montserrat', 'Morocco', 'Mozambique', 'Namibia',\n",
       "       'Nepal', 'Netherlands (Europe)', 'Netherlands', 'New Caledonia',\n",
       "       'New Zealand', 'Nicaragua', 'Niger', 'Nigeria', 'Niue',\n",
       "       'North America', 'North Korea', 'Northern Mariana Islands',\n",
       "       'Norway', 'Oceania', 'Oman', 'Pakistan', 'Palau', 'Palestina',\n",
       "       'Palmyra Atoll', 'Panama', 'Papua New Guinea', 'Paraguay', 'Peru',\n",
       "       'Philippines', 'Poland', 'Portugal', 'Puerto Rico', 'Qatar',\n",
       "       'Reunion', 'Romania', 'Russia', 'Rwanda', 'Saint Barthélemy',\n",
       "       'Saint Kitts And Nevis', 'Saint Lucia', 'Saint Martin',\n",
       "       'Saint Pierre And Miquelon', 'Saint Vincent And The Grenadines',\n",
       "       'Samoa', 'San Marino', 'Sao Tome And Principe', 'Saudi Arabia',\n",
       "       'Senegal', 'Serbia', 'Seychelles', 'Sierra Leone', 'Singapore',\n",
       "       'Sint Maarten', 'Slovakia', 'Slovenia', 'Solomon Islands',\n",
       "       'Somalia', 'South Africa', 'South America',\n",
       "       'South Georgia And The South Sandwich Isla', 'South Korea',\n",
       "       'Spain', 'Sri Lanka', 'Sudan', 'Suriname',\n",
       "       'Svalbard And Jan Mayen', 'Swaziland', 'Sweden', 'Switzerland',\n",
       "       'Syria', 'Taiwan', 'Tajikistan', 'Tanzania', 'Thailand',\n",
       "       'Timor Leste', 'Togo', 'Tonga', 'Trinidad And Tobago', 'Tunisia',\n",
       "       'Turkey', 'Turkmenistan', 'Turks And Caicas Islands', 'Uganda',\n",
       "       'Ukraine', 'United Arab Emirates', 'United Kingdom (Europe)',\n",
       "       'United Kingdom', 'United States', 'Uruguay', 'Uzbekistan',\n",
       "       'Venezuela', 'Vietnam', 'Virgin Islands', 'Western Sahara',\n",
       "       'Yemen', 'Zambia', 'Zimbabwe'], dtype=object)"
      ]
     },
     "execution_count": 105,
     "metadata": {},
     "output_type": "execute_result"
    }
   ],
   "source": [
    "country=global_temp[\"Country\"].unique()\n",
    "country"
   ]
  },
  {
   "cell_type": "code",
   "execution_count": 106,
   "metadata": {},
   "outputs": [
    {
     "name": "stdout",
     "output_type": "stream",
     "text": [
      "dt                                   0\n",
      "AverageTemperature               32651\n",
      "AverageTemperatureUncertainty    31912\n",
      "Country                              0\n",
      "dtype: int64\n"
     ]
    }
   ],
   "source": [
    "print(global_temp.isnull().sum())"
   ]
  },
  {
   "cell_type": "code",
   "execution_count": 107,
   "metadata": {},
   "outputs": [],
   "source": [
    "global_temp.dropna(inplace=True)"
   ]
  },
  {
   "cell_type": "code",
   "execution_count": 108,
   "metadata": {},
   "outputs": [
    {
     "data": {
      "text/html": [
       "<div>\n",
       "<style scoped>\n",
       "    .dataframe tbody tr th:only-of-type {\n",
       "        vertical-align: middle;\n",
       "    }\n",
       "\n",
       "    .dataframe tbody tr th {\n",
       "        vertical-align: top;\n",
       "    }\n",
       "\n",
       "    .dataframe thead th {\n",
       "        text-align: right;\n",
       "    }\n",
       "</style>\n",
       "<table border=\"1\" class=\"dataframe\">\n",
       "  <thead>\n",
       "    <tr style=\"text-align: right;\">\n",
       "      <th></th>\n",
       "      <th>dt</th>\n",
       "      <th>AverageTemperature</th>\n",
       "      <th>AverageTemperatureUncertainty</th>\n",
       "      <th>Country</th>\n",
       "    </tr>\n",
       "  </thead>\n",
       "  <tbody>\n",
       "    <tr>\n",
       "      <th>0</th>\n",
       "      <td>1743-11-01</td>\n",
       "      <td>4.384</td>\n",
       "      <td>2.294</td>\n",
       "      <td>Åland</td>\n",
       "    </tr>\n",
       "    <tr>\n",
       "      <th>5</th>\n",
       "      <td>1744-04-01</td>\n",
       "      <td>1.530</td>\n",
       "      <td>4.680</td>\n",
       "      <td>Åland</td>\n",
       "    </tr>\n",
       "    <tr>\n",
       "      <th>6</th>\n",
       "      <td>1744-05-01</td>\n",
       "      <td>6.702</td>\n",
       "      <td>1.789</td>\n",
       "      <td>Åland</td>\n",
       "    </tr>\n",
       "    <tr>\n",
       "      <th>7</th>\n",
       "      <td>1744-06-01</td>\n",
       "      <td>11.609</td>\n",
       "      <td>1.577</td>\n",
       "      <td>Åland</td>\n",
       "    </tr>\n",
       "    <tr>\n",
       "      <th>8</th>\n",
       "      <td>1744-07-01</td>\n",
       "      <td>15.342</td>\n",
       "      <td>1.410</td>\n",
       "      <td>Åland</td>\n",
       "    </tr>\n",
       "    <tr>\n",
       "      <th>...</th>\n",
       "      <td>...</td>\n",
       "      <td>...</td>\n",
       "      <td>...</td>\n",
       "      <td>...</td>\n",
       "    </tr>\n",
       "    <tr>\n",
       "      <th>577456</th>\n",
       "      <td>2013-04-01</td>\n",
       "      <td>21.142</td>\n",
       "      <td>0.495</td>\n",
       "      <td>Zimbabwe</td>\n",
       "    </tr>\n",
       "    <tr>\n",
       "      <th>577457</th>\n",
       "      <td>2013-05-01</td>\n",
       "      <td>19.059</td>\n",
       "      <td>1.022</td>\n",
       "      <td>Zimbabwe</td>\n",
       "    </tr>\n",
       "    <tr>\n",
       "      <th>577458</th>\n",
       "      <td>2013-06-01</td>\n",
       "      <td>17.613</td>\n",
       "      <td>0.473</td>\n",
       "      <td>Zimbabwe</td>\n",
       "    </tr>\n",
       "    <tr>\n",
       "      <th>577459</th>\n",
       "      <td>2013-07-01</td>\n",
       "      <td>17.000</td>\n",
       "      <td>0.453</td>\n",
       "      <td>Zimbabwe</td>\n",
       "    </tr>\n",
       "    <tr>\n",
       "      <th>577460</th>\n",
       "      <td>2013-08-01</td>\n",
       "      <td>19.759</td>\n",
       "      <td>0.717</td>\n",
       "      <td>Zimbabwe</td>\n",
       "    </tr>\n",
       "  </tbody>\n",
       "</table>\n",
       "<p>544811 rows × 4 columns</p>\n",
       "</div>"
      ],
      "text/plain": [
       "                dt  AverageTemperature  AverageTemperatureUncertainty  \\\n",
       "0       1743-11-01               4.384                          2.294   \n",
       "5       1744-04-01               1.530                          4.680   \n",
       "6       1744-05-01               6.702                          1.789   \n",
       "7       1744-06-01              11.609                          1.577   \n",
       "8       1744-07-01              15.342                          1.410   \n",
       "...            ...                 ...                            ...   \n",
       "577456  2013-04-01              21.142                          0.495   \n",
       "577457  2013-05-01              19.059                          1.022   \n",
       "577458  2013-06-01              17.613                          0.473   \n",
       "577459  2013-07-01              17.000                          0.453   \n",
       "577460  2013-08-01              19.759                          0.717   \n",
       "\n",
       "         Country  \n",
       "0          Åland  \n",
       "5          Åland  \n",
       "6          Åland  \n",
       "7          Åland  \n",
       "8          Åland  \n",
       "...          ...  \n",
       "577456  Zimbabwe  \n",
       "577457  Zimbabwe  \n",
       "577458  Zimbabwe  \n",
       "577459  Zimbabwe  \n",
       "577460  Zimbabwe  \n",
       "\n",
       "[544811 rows x 4 columns]"
      ]
     },
     "execution_count": 108,
     "metadata": {},
     "output_type": "execute_result"
    }
   ],
   "source": [
    "global_temp"
   ]
  },
  {
   "cell_type": "code",
   "execution_count": 109,
   "metadata": {},
   "outputs": [
    {
     "name": "stdout",
     "output_type": "stream",
     "text": [
      "dt                               0\n",
      "AverageTemperature               0\n",
      "AverageTemperatureUncertainty    0\n",
      "Country                          0\n",
      "dtype: int64\n"
     ]
    }
   ],
   "source": [
    "print(global_temp.isnull().sum())"
   ]
  },
  {
   "cell_type": "code",
   "execution_count": 110,
   "metadata": {},
   "outputs": [
    {
     "data": {
      "text/plain": [
       "Index(['dt', 'AverageTemperature', 'AverageTemperatureUncertainty', 'Country'], dtype='object')"
      ]
     },
     "execution_count": 110,
     "metadata": {},
     "output_type": "execute_result"
    }
   ],
   "source": [
    "global_temp.columns"
   ]
  },
  {
   "cell_type": "code",
   "execution_count": 111,
   "metadata": {},
   "outputs": [
    {
     "data": {
      "text/plain": [
       "0            Åland\n",
       "5            Åland\n",
       "6            Åland\n",
       "7            Åland\n",
       "8            Åland\n",
       "            ...   \n",
       "577456    Zimbabwe\n",
       "577457    Zimbabwe\n",
       "577458    Zimbabwe\n",
       "577459    Zimbabwe\n",
       "577460    Zimbabwe\n",
       "Name: Country, Length: 544811, dtype: object"
      ]
     },
     "execution_count": 111,
     "metadata": {},
     "output_type": "execute_result"
    }
   ],
   "source": [
    "data.Country"
   ]
  },
  {
   "cell_type": "code",
   "execution_count": 112,
   "metadata": {},
   "outputs": [
    {
     "data": {
      "text/plain": [
       "array(['Åland', 'Afghanistan', 'Africa', 'Albania', 'Algeria',\n",
       "       'American Samoa', 'Andorra', 'Angola', 'Anguilla',\n",
       "       'Antigua And Barbuda', 'Argentina', 'Armenia', 'Aruba', 'Asia',\n",
       "       'Australia', 'Austria', 'Azerbaijan', 'Bahamas', 'Bahrain',\n",
       "       'Baker Island', 'Bangladesh', 'Barbados', 'Belarus', 'Belgium',\n",
       "       'Belize', 'Benin', 'Bhutan', 'Bolivia',\n",
       "       'Bonaire, Saint Eustatius And Saba', 'Bosnia And Herzegovina',\n",
       "       'Botswana', 'Brazil', 'British Virgin Islands', 'Bulgaria',\n",
       "       'Burkina Faso', 'Burma', 'Burundi', \"Côte D'Ivoire\", 'Cambodia',\n",
       "       'Cameroon', 'Canada', 'Cape Verde', 'Cayman Islands',\n",
       "       'Central African Republic', 'Chad', 'Chile', 'China',\n",
       "       'Christmas Island', 'Colombia', 'Comoros',\n",
       "       'Congo (Democratic Republic Of The)', 'Congo', 'Costa Rica',\n",
       "       'Croatia', 'Cuba', 'Curaçao', 'Cyprus', 'Czech Republic',\n",
       "       'Denmark (Europe)', 'Denmark', 'Djibouti', 'Dominica',\n",
       "       'Dominican Republic', 'Ecuador', 'Egypt', 'El Salvador',\n",
       "       'Equatorial Guinea', 'Eritrea', 'Estonia', 'Ethiopia', 'Europe',\n",
       "       'Falkland Islands (Islas Malvinas)', 'Faroe Islands',\n",
       "       'Federated States Of Micronesia', 'Fiji', 'Finland',\n",
       "       'France (Europe)', 'France', 'French Guiana', 'French Polynesia',\n",
       "       'French Southern And Antarctic Lands', 'Gabon', 'Gambia',\n",
       "       'Gaza Strip', 'Georgia', 'Germany', 'Ghana', 'Greece', 'Greenland',\n",
       "       'Grenada', 'Guadeloupe', 'Guam', 'Guatemala', 'Guernsey',\n",
       "       'Guinea Bissau', 'Guinea', 'Guyana', 'Haiti',\n",
       "       'Heard Island And Mcdonald Islands', 'Honduras', 'Hong Kong',\n",
       "       'Hungary', 'Iceland', 'India', 'Indonesia', 'Iran', 'Iraq',\n",
       "       'Ireland', 'Isle Of Man', 'Israel', 'Italy', 'Jamaica', 'Japan',\n",
       "       'Jersey', 'Jordan', 'Kazakhstan', 'Kenya', 'Kingman Reef',\n",
       "       'Kiribati', 'Kuwait', 'Kyrgyzstan', 'Laos', 'Latvia', 'Lebanon',\n",
       "       'Lesotho', 'Liberia', 'Libya', 'Liechtenstein', 'Lithuania',\n",
       "       'Luxembourg', 'Macau', 'Macedonia', 'Madagascar', 'Malawi',\n",
       "       'Malaysia', 'Mali', 'Malta', 'Martinique', 'Mauritania',\n",
       "       'Mauritius', 'Mayotte', 'Mexico', 'Moldova', 'Monaco', 'Mongolia',\n",
       "       'Montenegro', 'Montserrat', 'Morocco', 'Mozambique', 'Namibia',\n",
       "       'Nepal', 'Netherlands (Europe)', 'Netherlands', 'New Caledonia',\n",
       "       'New Zealand', 'Nicaragua', 'Niger', 'Nigeria', 'Niue',\n",
       "       'North America', 'North Korea', 'Northern Mariana Islands',\n",
       "       'Norway', 'Oceania', 'Oman', 'Pakistan', 'Palau', 'Palestina',\n",
       "       'Palmyra Atoll', 'Panama', 'Papua New Guinea', 'Paraguay', 'Peru',\n",
       "       'Philippines', 'Poland', 'Portugal', 'Puerto Rico', 'Qatar',\n",
       "       'Reunion', 'Romania', 'Russia', 'Rwanda', 'Saint Barthélemy',\n",
       "       'Saint Kitts And Nevis', 'Saint Lucia', 'Saint Martin',\n",
       "       'Saint Pierre And Miquelon', 'Saint Vincent And The Grenadines',\n",
       "       'Samoa', 'San Marino', 'Sao Tome And Principe', 'Saudi Arabia',\n",
       "       'Senegal', 'Serbia', 'Seychelles', 'Sierra Leone', 'Singapore',\n",
       "       'Sint Maarten', 'Slovakia', 'Slovenia', 'Solomon Islands',\n",
       "       'Somalia', 'South Africa', 'South America',\n",
       "       'South Georgia And The South Sandwich Isla', 'South Korea',\n",
       "       'Spain', 'Sri Lanka', 'Sudan', 'Suriname',\n",
       "       'Svalbard And Jan Mayen', 'Swaziland', 'Sweden', 'Switzerland',\n",
       "       'Syria', 'Taiwan', 'Tajikistan', 'Tanzania', 'Thailand',\n",
       "       'Timor Leste', 'Togo', 'Tonga', 'Trinidad And Tobago', 'Tunisia',\n",
       "       'Turkey', 'Turkmenistan', 'Turks And Caicas Islands', 'Uganda',\n",
       "       'Ukraine', 'United Arab Emirates', 'United Kingdom (Europe)',\n",
       "       'United Kingdom', 'United States', 'Uruguay', 'Uzbekistan',\n",
       "       'Venezuela', 'Vietnam', 'Virgin Islands', 'Western Sahara',\n",
       "       'Yemen', 'Zambia', 'Zimbabwe'], dtype=object)"
      ]
     },
     "execution_count": 112,
     "metadata": {},
     "output_type": "execute_result"
    }
   ],
   "source": [
    "country=global_temp[\"Country\"].unique()\n",
    "country"
   ]
  },
  {
   "cell_type": "code",
   "execution_count": 113,
   "metadata": {},
   "outputs": [
    {
     "data": {
      "text/html": [
       "<div>\n",
       "<style scoped>\n",
       "    .dataframe tbody tr th:only-of-type {\n",
       "        vertical-align: middle;\n",
       "    }\n",
       "\n",
       "    .dataframe tbody tr th {\n",
       "        vertical-align: top;\n",
       "    }\n",
       "\n",
       "    .dataframe thead th {\n",
       "        text-align: right;\n",
       "    }\n",
       "</style>\n",
       "<table border=\"1\" class=\"dataframe\">\n",
       "  <thead>\n",
       "    <tr style=\"text-align: right;\">\n",
       "      <th></th>\n",
       "      <th>dt</th>\n",
       "      <th>AverageTemperature</th>\n",
       "      <th>AverageTemperatureUncertainty</th>\n",
       "      <th>Country</th>\n",
       "    </tr>\n",
       "  </thead>\n",
       "  <tbody>\n",
       "    <tr>\n",
       "      <th>284851</th>\n",
       "      <td>2012-07-01</td>\n",
       "      <td>38.842</td>\n",
       "      <td>0.464</td>\n",
       "      <td>Kuwait</td>\n",
       "    </tr>\n",
       "    <tr>\n",
       "      <th>284707</th>\n",
       "      <td>2000-07-01</td>\n",
       "      <td>38.705</td>\n",
       "      <td>0.467</td>\n",
       "      <td>Kuwait</td>\n",
       "    </tr>\n",
       "    <tr>\n",
       "      <th>284827</th>\n",
       "      <td>2010-07-01</td>\n",
       "      <td>38.495</td>\n",
       "      <td>0.498</td>\n",
       "      <td>Kuwait</td>\n",
       "    </tr>\n",
       "    <tr>\n",
       "      <th>284684</th>\n",
       "      <td>1998-08-01</td>\n",
       "      <td>38.436</td>\n",
       "      <td>0.353</td>\n",
       "      <td>Kuwait</td>\n",
       "    </tr>\n",
       "    <tr>\n",
       "      <th>284708</th>\n",
       "      <td>2000-08-01</td>\n",
       "      <td>38.315</td>\n",
       "      <td>0.593</td>\n",
       "      <td>Kuwait</td>\n",
       "    </tr>\n",
       "    <tr>\n",
       "      <th>...</th>\n",
       "      <td>...</td>\n",
       "      <td>...</td>\n",
       "      <td>...</td>\n",
       "      <td>...</td>\n",
       "    </tr>\n",
       "    <tr>\n",
       "      <th>210796</th>\n",
       "      <td>1898-02-01</td>\n",
       "      <td>-36.738</td>\n",
       "      <td>2.992</td>\n",
       "      <td>Greenland</td>\n",
       "    </tr>\n",
       "    <tr>\n",
       "      <th>143034</th>\n",
       "      <td>1868-02-01</td>\n",
       "      <td>-36.830</td>\n",
       "      <td>5.977</td>\n",
       "      <td>Denmark</td>\n",
       "    </tr>\n",
       "    <tr>\n",
       "      <th>211035</th>\n",
       "      <td>1918-01-01</td>\n",
       "      <td>-37.177</td>\n",
       "      <td>4.248</td>\n",
       "      <td>Greenland</td>\n",
       "    </tr>\n",
       "    <tr>\n",
       "      <th>210507</th>\n",
       "      <td>1874-01-01</td>\n",
       "      <td>-37.413</td>\n",
       "      <td>3.883</td>\n",
       "      <td>Greenland</td>\n",
       "    </tr>\n",
       "    <tr>\n",
       "      <th>210436</th>\n",
       "      <td>1868-02-01</td>\n",
       "      <td>-37.658</td>\n",
       "      <td>6.111</td>\n",
       "      <td>Greenland</td>\n",
       "    </tr>\n",
       "  </tbody>\n",
       "</table>\n",
       "<p>544811 rows × 4 columns</p>\n",
       "</div>"
      ],
      "text/plain": [
       "                dt  AverageTemperature  AverageTemperatureUncertainty  \\\n",
       "284851  2012-07-01              38.842                          0.464   \n",
       "284707  2000-07-01              38.705                          0.467   \n",
       "284827  2010-07-01              38.495                          0.498   \n",
       "284684  1998-08-01              38.436                          0.353   \n",
       "284708  2000-08-01              38.315                          0.593   \n",
       "...            ...                 ...                            ...   \n",
       "210796  1898-02-01             -36.738                          2.992   \n",
       "143034  1868-02-01             -36.830                          5.977   \n",
       "211035  1918-01-01             -37.177                          4.248   \n",
       "210507  1874-01-01             -37.413                          3.883   \n",
       "210436  1868-02-01             -37.658                          6.111   \n",
       "\n",
       "          Country  \n",
       "284851     Kuwait  \n",
       "284707     Kuwait  \n",
       "284827     Kuwait  \n",
       "284684     Kuwait  \n",
       "284708     Kuwait  \n",
       "...           ...  \n",
       "210796  Greenland  \n",
       "143034    Denmark  \n",
       "211035  Greenland  \n",
       "210507  Greenland  \n",
       "210436  Greenland  \n",
       "\n",
       "[544811 rows x 4 columns]"
      ]
     },
     "execution_count": 113,
     "metadata": {},
     "output_type": "execute_result"
    }
   ],
   "source": [
    "sort_by_temp_desce = global_temp.sort_values('AverageTemperature', ascending=False)\n",
    "sort_by_temp_desce"
   ]
  },
  {
   "cell_type": "code",
   "execution_count": 114,
   "metadata": {},
   "outputs": [
    {
     "name": "stderr",
     "output_type": "stream",
     "text": [
      "C:\\Users\\Admin\\AppData\\Local\\Temp\\ipykernel_6724\\3763517350.py:2: SettingWithCopyWarning:\n",
      "\n",
      "\n",
      "A value is trying to be set on a copy of a slice from a DataFrame.\n",
      "Try using .loc[row_indexer,col_indexer] = value instead\n",
      "\n",
      "See the caveats in the documentation: https://pandas.pydata.org/pandas-docs/stable/user_guide/indexing.html#returning-a-view-versus-a-copy\n",
      "\n",
      "C:\\Users\\Admin\\AppData\\Local\\Temp\\ipykernel_6724\\3763517350.py:3: SettingWithCopyWarning:\n",
      "\n",
      "\n",
      "A value is trying to be set on a copy of a slice from a DataFrame.\n",
      "Try using .loc[row_indexer,col_indexer] = value instead\n",
      "\n",
      "See the caveats in the documentation: https://pandas.pydata.org/pandas-docs/stable/user_guide/indexing.html#returning-a-view-versus-a-copy\n",
      "\n"
     ]
    },
    {
     "data": {
      "text/plain": [
       "<AxesSubplot:title={'center':'Average Global Temperature Movement'}, xlabel='Date (1750 - 2015)', ylabel='Average Global Temperature'>"
      ]
     },
     "execution_count": 114,
     "metadata": {},
     "output_type": "execute_result"
    },
    {
     "data": {
      "image/png": "[encoded data removed]",
      "text/plain": [
       "<Figure size 1152x432 with 1 Axes>"
      ]
     },
     "metadata": {
      "needs_background": "light"
     },
     "output_type": "display_data"
    }
   ],
   "source": [
    "global_temp = global_temp[['dt', 'AverageTemperature']]\n",
    "global_temp['dt'] = pd.to_datetime(global_temp.dt).dt.strftime('%d/%m/%Y')\n",
    "global_temp['dt'] = global_temp['dt'].apply(lambda x:x[6:])\n",
    "global_temp = global_temp.groupby(['dt'])['AverageTemperature'].mean().reset_index()\n",
    "\n",
    "plt.figure(figsize =(16, 6))\n",
    "ax = sns.lineplot(\n",
    "    x = global_temp['dt'],\n",
    "    y = global_temp['AverageTemperature'])\n",
    "ax.set_title('Average Global Temperature Movement')\n",
    "ax.set_ylabel('Average Global Temperature')\n",
    "ax.set_xlabel('Date (1750 - 2015)')\n",
    "ax.axes.get_xaxis().set_ticks([])\n",
    "ax"
   ]
  },
  {
   "cell_type": "code",
   "execution_count": 115,
   "metadata": {},
   "outputs": [],
   "source": [
    "# Preparing the data for machine learning\n",
    "X = global_temp.iloc[:, global_temp.columns != 'AverageTemperature'].values\n",
    "y = global_temp.iloc[:, global_temp.columns == 'AverageTemperature'].values"
   ]
  },
  {
   "cell_type": "code",
   "execution_count": 116,
   "metadata": {},
   "outputs": [],
   "source": [
    "# Splitting the dataset into the Training set and Test set\n",
    "from sklearn.model_selection import train_test_split\n",
    "X_train, X_test, y_train, y_test = train_test_split(X, y, test_size = 0.1, random_state = 0)"
   ]
  },
  {
   "cell_type": "code",
   "execution_count": 117,
   "metadata": {},
   "outputs": [
    {
     "data": {
      "text/plain": [
       "array([['1996'],\n",
       "       ['1900'],\n",
       "       ['1993'],\n",
       "       ['1883'],\n",
       "       ['1980'],\n",
       "       ['1992'],\n",
       "       ['1848'],\n",
       "       ['1774'],\n",
       "       ['1855'],\n",
       "       ['1957'],\n",
       "       ['1784'],\n",
       "       ['1991'],\n",
       "       ['1767'],\n",
       "       ['1931'],\n",
       "       ['1969'],\n",
       "       ['1823'],\n",
       "       ['2006'],\n",
       "       ['1929'],\n",
       "       ['1752'],\n",
       "       ['1769'],\n",
       "       ['1937'],\n",
       "       ['1811'],\n",
       "       ['1759'],\n",
       "       ['1863'],\n",
       "       ['1947'],\n",
       "       ['1810'],\n",
       "       ['1981'],\n",
       "       ['1854'],\n",
       "       ['1928'],\n",
       "       ['1995'],\n",
       "       ['1791'],\n",
       "       ['1844'],\n",
       "       ['1821'],\n",
       "       ['1941'],\n",
       "       ['1938'],\n",
       "       ['1830'],\n",
       "       ['1920'],\n",
       "       ['1935'],\n",
       "       ['1837'],\n",
       "       ['1926'],\n",
       "       ['1850'],\n",
       "       ['1765'],\n",
       "       ['1951'],\n",
       "       ['1923'],\n",
       "       ['1836'],\n",
       "       ['1818'],\n",
       "       ['1896'],\n",
       "       ['1943'],\n",
       "       ['2003'],\n",
       "       ['1869'],\n",
       "       ['1780'],\n",
       "       ['1853'],\n",
       "       ['1903'],\n",
       "       ['1884'],\n",
       "       ['1990'],\n",
       "       ['1768'],\n",
       "       ['1975'],\n",
       "       ['1856'],\n",
       "       ['1763'],\n",
       "       ['1892'],\n",
       "       ['1822'],\n",
       "       ['1858'],\n",
       "       ['1876'],\n",
       "       ['1873'],\n",
       "       ['1976'],\n",
       "       ['1751'],\n",
       "       ['1881'],\n",
       "       ['1808'],\n",
       "       ['1814'],\n",
       "       ['1799'],\n",
       "       ['1813'],\n",
       "       ['1773'],\n",
       "       ['1936'],\n",
       "       ['1906'],\n",
       "       ['1865'],\n",
       "       ['1988'],\n",
       "       ['1787'],\n",
       "       ['1760'],\n",
       "       ['1886'],\n",
       "       ['1905'],\n",
       "       ['1750'],\n",
       "       ['1872'],\n",
       "       ['1771'],\n",
       "       ['1777'],\n",
       "       ['2005'],\n",
       "       ['1915'],\n",
       "       ['1807'],\n",
       "       ['1803'],\n",
       "       ['1985'],\n",
       "       ['1897'],\n",
       "       ['1793'],\n",
       "       ['1766'],\n",
       "       ['1960'],\n",
       "       ['1973'],\n",
       "       ['1801'],\n",
       "       ['1965'],\n",
       "       ['1827'],\n",
       "       ['1798'],\n",
       "       ['1745'],\n",
       "       ['1934'],\n",
       "       ['1851'],\n",
       "       ['1891'],\n",
       "       ['1833'],\n",
       "       ['1757'],\n",
       "       ['1902'],\n",
       "       ['1999'],\n",
       "       ['1788'],\n",
       "       ['1761'],\n",
       "       ['1797'],\n",
       "       ['1967'],\n",
       "       ['1870'],\n",
       "       ['1809'],\n",
       "       ['1962'],\n",
       "       ['1925'],\n",
       "       ['1877'],\n",
       "       ['1913'],\n",
       "       ['1971'],\n",
       "       ['1790'],\n",
       "       ['1959'],\n",
       "       ['1885'],\n",
       "       ['1904'],\n",
       "       ['2013'],\n",
       "       ['1859'],\n",
       "       ['1945'],\n",
       "       ['1845'],\n",
       "       ['1918'],\n",
       "       ['1840'],\n",
       "       ['1909'],\n",
       "       ['1783'],\n",
       "       ['1860'],\n",
       "       ['1743'],\n",
       "       ['1841'],\n",
       "       ['1842'],\n",
       "       ['1816'],\n",
       "       ['1796'],\n",
       "       ['1795'],\n",
       "       ['1832'],\n",
       "       ['2011'],\n",
       "       ['1888'],\n",
       "       ['1770'],\n",
       "       ['1986'],\n",
       "       ['1890'],\n",
       "       ['1825'],\n",
       "       ['1847'],\n",
       "       ['1878'],\n",
       "       ['1966'],\n",
       "       ['2012'],\n",
       "       ['1753'],\n",
       "       ['1815'],\n",
       "       ['1831'],\n",
       "       ['1917'],\n",
       "       ['1868'],\n",
       "       ['2000'],\n",
       "       ['1952'],\n",
       "       ['1978'],\n",
       "       ['1972'],\n",
       "       ['1954'],\n",
       "       ['1838'],\n",
       "       ['1979'],\n",
       "       ['1994'],\n",
       "       ['1758'],\n",
       "       ['1866'],\n",
       "       ['1849'],\n",
       "       ['1782'],\n",
       "       ['1804'],\n",
       "       ['1916'],\n",
       "       ['1812'],\n",
       "       ['1744'],\n",
       "       ['1867'],\n",
       "       ['1964'],\n",
       "       ['1933'],\n",
       "       ['1789'],\n",
       "       ['1852'],\n",
       "       ['1879'],\n",
       "       ['1982'],\n",
       "       ['1764'],\n",
       "       ['1785'],\n",
       "       ['1880'],\n",
       "       ['1800'],\n",
       "       ['1911'],\n",
       "       ['1984'],\n",
       "       ['1875'],\n",
       "       ['1781'],\n",
       "       ['1775'],\n",
       "       ['1930'],\n",
       "       ['1861'],\n",
       "       ['1950'],\n",
       "       ['1910'],\n",
       "       ['1898'],\n",
       "       ['1949'],\n",
       "       ['1778'],\n",
       "       ['1970'],\n",
       "       ['1874'],\n",
       "       ['1932'],\n",
       "       ['1987'],\n",
       "       ['2009'],\n",
       "       ['1779'],\n",
       "       ['1914'],\n",
       "       ['1889'],\n",
       "       ['1974'],\n",
       "       ['1894'],\n",
       "       ['1776'],\n",
       "       ['1924'],\n",
       "       ['2002'],\n",
       "       ['1846'],\n",
       "       ['1829'],\n",
       "       ['2010'],\n",
       "       ['1922'],\n",
       "       ['1826'],\n",
       "       ['1944'],\n",
       "       ['1955'],\n",
       "       ['1862'],\n",
       "       ['1895'],\n",
       "       ['2007'],\n",
       "       ['1819'],\n",
       "       ['1824'],\n",
       "       ['1772'],\n",
       "       ['1912'],\n",
       "       ['1828'],\n",
       "       ['2001'],\n",
       "       ['1921'],\n",
       "       ['2004'],\n",
       "       ['1786'],\n",
       "       ['1977'],\n",
       "       ['1940'],\n",
       "       ['1805'],\n",
       "       ['1887'],\n",
       "       ['1835'],\n",
       "       ['1963'],\n",
       "       ['1817'],\n",
       "       ['1834'],\n",
       "       ['1989'],\n",
       "       ['1958'],\n",
       "       ['1756'],\n",
       "       ['1942'],\n",
       "       ['1998'],\n",
       "       ['1939'],\n",
       "       ['1864'],\n",
       "       ['1794'],\n",
       "       ['1919']], dtype=object)"
      ]
     },
     "execution_count": 117,
     "metadata": {},
     "output_type": "execute_result"
    }
   ],
   "source": [
    "X_train"
   ]
  },
  {
   "cell_type": "code",
   "execution_count": 118,
   "metadata": {},
   "outputs": [
    {
     "data": {
      "text/html": [
       "<style>#sk-container-id-2 {color: black;background-color: white;}#sk-container-id-2 pre{padding: 0;}#sk-container-id-2 div.sk-toggleable {background-color: white;}#sk-container-id-2 label.sk-toggleable__label {cursor: pointer;display: block;width: 100%;margin-bottom: 0;padding: 0.3em;box-sizing: border-box;text-align: center;}#sk-container-id-2 label.sk-toggleable__label-arrow:before {content: \"▸\";float: left;margin-right: 0.25em;color: #696969;}#sk-container-id-2 label.sk-toggleable__label-arrow:hover:before {color: black;}#sk-container-id-2 div.sk-estimator:hover label.sk-toggleable__label-arrow:before {color: black;}#sk-container-id-2 div.sk-toggleable__content {max-height: 0;max-width: 0;overflow: hidden;text-align: left;background-color: #f0f8ff;}#sk-container-id-2 div.sk-toggleable__content pre {margin: 0.2em;color: black;border-radius: 0.25em;background-color: #f0f8ff;}#sk-container-id-2 input.sk-toggleable__control:checked~div.sk-toggleable__content {max-height: 200px;max-width: 100%;overflow: auto;}#sk-container-id-2 input.sk-toggleable__control:checked~label.sk-toggleable__label-arrow:before {content: \"▾\";}#sk-container-id-2 div.sk-estimator input.sk-toggleable__control:checked~label.sk-toggleable__label {background-color: #d4ebff;}#sk-container-id-2 div.sk-label input.sk-toggleable__control:checked~label.sk-toggleable__label {background-color: #d4ebff;}#sk-container-id-2 input.sk-hidden--visually {border: 0;clip: rect(1px 1px 1px 1px);clip: rect(1px, 1px, 1px, 1px);height: 1px;margin: -1px;overflow: hidden;padding: 0;position: absolute;width: 1px;}#sk-container-id-2 div.sk-estimator {font-family: monospace;background-color: #f0f8ff;border: 1px dotted black;border-radius: 0.25em;box-sizing: border-box;margin-bottom: 0.5em;}#sk-container-id-2 div.sk-estimator:hover {background-color: #d4ebff;}#sk-container-id-2 div.sk-parallel-item::after {content: \"\";width: 100%;border-bottom: 1px solid gray;flex-grow: 1;}#sk-container-id-2 div.sk-label:hover label.sk-toggleable__label {background-color: #d4ebff;}#sk-container-id-2 div.sk-serial::before {content: \"\";position: absolute;border-left: 1px solid gray;box-sizing: border-box;top: 0;bottom: 0;left: 50%;z-index: 0;}#sk-container-id-2 div.sk-serial {display: flex;flex-direction: column;align-items: center;background-color: white;padding-right: 0.2em;padding-left: 0.2em;position: relative;}#sk-container-id-2 div.sk-item {position: relative;z-index: 1;}#sk-container-id-2 div.sk-parallel {display: flex;align-items: stretch;justify-content: center;background-color: white;position: relative;}#sk-container-id-2 div.sk-item::before, #sk-container-id-2 div.sk-parallel-item::before {content: \"\";position: absolute;border-left: 1px solid gray;box-sizing: border-box;top: 0;bottom: 0;left: 50%;z-index: -1;}#sk-container-id-2 div.sk-parallel-item {display: flex;flex-direction: column;z-index: 1;position: relative;background-color: white;}#sk-container-id-2 div.sk-parallel-item:first-child::after {align-self: flex-end;width: 50%;}#sk-container-id-2 div.sk-parallel-item:last-child::after {align-self: flex-start;width: 50%;}#sk-container-id-2 div.sk-parallel-item:only-child::after {width: 0;}#sk-container-id-2 div.sk-dashed-wrapped {border: 1px dashed gray;margin: 0 0.4em 0.5em 0.4em;box-sizing: border-box;padding-bottom: 0.4em;background-color: white;}#sk-container-id-2 div.sk-label label {font-family: monospace;font-weight: bold;display: inline-block;line-height: 1.2em;}#sk-container-id-2 div.sk-label-container {text-align: center;}#sk-container-id-2 div.sk-container {/* jupyter's `normalize.less` sets `[hidden] { display: none; }` but bootstrap.min.css set `[hidden] { display: none !important; }` so we also need the `!important` here to be able to override the default hidden behavior on the sphinx rendered scikit-learn.org. See: https://github.com/scikit-learn/scikit-learn/issues/21755 */display: inline-block !important;position: relative;}#sk-container-id-2 div.sk-text-repr-fallback {display: none;}</style><div id=\"sk-container-id-2\" class=\"sk-top-container\"><div class=\"sk-text-repr-fallback\"><pre>LinearRegression()</pre><b>In a Jupyter environment, please rerun this cell to show the HTML representation or trust the notebook. <br />On GitHub, the HTML representation is unable to render, please try loading this page with nbviewer.org.</b></div><div class=\"sk-container\" hidden><div class=\"sk-item\"><div class=\"sk-estimator sk-toggleable\"><input class=\"sk-toggleable__control sk-hidden--visually\" id=\"sk-estimator-id-2\" type=\"checkbox\" checked><label for=\"sk-estimator-id-2\" class=\"sk-toggleable__label sk-toggleable__label-arrow\">LinearRegression</label><div class=\"sk-toggleable__content\"><pre>LinearRegression()</pre></div></div></div></div></div>"
      ],
      "text/plain": [
       "LinearRegression()"
      ]
     },
     "execution_count": 118,
     "metadata": {},
     "output_type": "execute_result"
    }
   ],
   "source": [
    "# Taking linear regression to the training set\n",
    "from sklearn.linear_model import LinearRegression\n",
    "regressor = LinearRegression()\n",
    "regressor.fit(X_train, y_train)"
   ]
  },
  {
   "cell_type": "code",
   "execution_count": 119,
   "metadata": {},
   "outputs": [],
   "source": [
    "# Predicting the test set results\n",
    "y_pred = regressor.predict(X_test)"
   ]
  },
  {
   "cell_type": "code",
   "execution_count": 120,
   "metadata": {},
   "outputs": [],
   "source": [
    "# Describing the train and test type\n",
    "X_train = X_train.astype('float64')\n",
    "y_train = y_train.astype('float64')\n",
    "X_test = X_test.astype('float64')\n",
    "y_test = y_test.astype('float64')"
   ]
  },
  {
   "cell_type": "code",
   "execution_count": 121,
   "metadata": {},
   "outputs": [
    {
     "data": {
      "image/png": "[encoded data removed]",
      "text/plain": [
       "<Figure size 432x288 with 1 Axes>"
      ]
     },
     "metadata": {
      "needs_background": "light"
     },
     "output_type": "display_data"
    }
   ],
   "source": [
    "# Visualising the training set results\n",
    "plt.scatter(X_train, y_train, color = 'green')\n",
    "plt.plot(X_train, regressor.predict(X_train), color = 'blue')\n",
    "plt.title('Average Temperature ')\n",
    "plt.xlabel('Year')\n",
    "plt.ylabel('Temperatre')\n",
    "plt.show()"
   ]
  },
  {
   "cell_type": "code",
   "execution_count": 122,
   "metadata": {},
   "outputs": [
    {
     "data": {
      "image/png": "[encoded data removed]",
      "text/plain": [
       "<Figure size 432x288 with 1 Axes>"
      ]
     },
     "metadata": {
      "needs_background": "light"
     },
     "output_type": "display_data"
    }
   ],
   "source": [
    "# Visualising the test set results\n",
    "plt.scatter(X_test, y_test, color = 'red')\n",
    "plt.plot(X_train, regressor.predict(X_train), color = 'blue')\n",
    "plt.title('Average  Temperature ')\n",
    "plt.xlabel('Year')\n",
    "plt.ylabel('Temperature')\n",
    "plt.show()"
   ]
  },
  {
   "cell_type": "code",
   "execution_count": 127,
   "metadata": {},
   "outputs": [
    {
     "data": {
      "text/plain": [
       "array([[22.57144917]])"
      ]
     },
     "execution_count": 127,
     "metadata": {},
     "output_type": "execute_result"
    }
   ],
   "source": [
    "# Building the predictor\n",
    "X_predict = [2025] \n",
    "X_predict = np.array(X_predict).reshape(1, -1)\n",
    "y_predict = regressor.predict(X_predict)\n",
    "\n",
    "\n",
    "y_predict"
   ]
  },
  {
   "cell_type": "code",
   "execution_count": null,
   "metadata": {},
   "outputs": [],
   "source": [
    "#The average global temperature is likely to increase to 22.57 degrees celcius by 2025."
   ]
  }
 ],
 "metadata": {
  "kernelspec": {
   "display_name": "Python 3.10.4 64-bit",
   "language": "python",
   "name": "python3"
  },
  "language_info": {
   "codemirror_mode": {
    "name": "ipython",
    "version": 3
   },
   "file_extension": ".py",
   "mimetype": "text/x-python",
   "name": "python",
   "nbconvert_exporter": "python",
   "pygments_lexer": "ipython3",
   "version": "3.10.4"
  },
  "orig_nbformat": 4,
  "vscode": {
   "interpreter": {
    "hash": "a42ccb73e7d9bfdf27e036f1d2b8b681e55fc0743cc5586bc2474d4a60f4b886"
   }
  }
 },
 "nbformat": 4,
 "nbformat_minor": 2
}
